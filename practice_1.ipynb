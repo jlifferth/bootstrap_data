{
 "cells": [
  {
   "cell_type": "code",
   "execution_count": 14,
   "id": "853f0b72",
   "metadata": {},
   "outputs": [],
   "source": [
    "import numpy as np\n",
    "import pandas as pd\n",
    "import seaborn as sns\n"
   ]
  },
  {
   "cell_type": "code",
   "execution_count": 49,
   "id": "df0baee1",
   "metadata": {},
   "outputs": [],
   "source": [
    "sns.set_theme()\n",
    "sns.set_context(\"talk\")"
   ]
  },
  {
   "cell_type": "code",
   "execution_count": 3,
   "id": "5c33f3c4",
   "metadata": {},
   "outputs": [
    {
     "data": {
      "text/plain": [
       "array(['PRF5_B3_pickup', 'PRF5_A3', 'PRF5_C3', 'PRF5_D3', 'JHH4_B2',\n",
       "       'JHH4_A2', 'JHH6_A1', 'JHH6_B1', 'JHH6_D1', 'JHH6_C1_pickup',\n",
       "       'JHH7_C5', 'JHH7_D5', 'JHH7_A5', 'JHH7_B5_pickup', 'JHH7_2.5uM_n2',\n",
       "       'JHH7_2.5uM_n3', 'JHH7_2.5uM_n4', 'JHH7_2.5uM_n1', 'JHH6_2.5uM_n2',\n",
       "       'JHH6_2.5uM_n3', 'JHH6_2.5uM_n4', 'JHH6_2.5uM_n1', 'JHH7_0uM_n1',\n",
       "       'JHH7_0uM_n4', 'JHH7_0uM_n3', 'JHH7_0uM_n2', 'JHH6_0uM_n2',\n",
       "       'JHH6_0uM_n3', 'JHH6_0uM_n4', 'JHH6_0uM_n1', 'JHH7_1uM_n1',\n",
       "       'JHH7_1uM_n2', 'JHH7_1uM_n3', 'JHH7_1uM_n4', 'JHH6_1uM_n4',\n",
       "       'JHH6_1uM_n3', 'JHH6_1uM_n2', 'JHH6_1uM_n1', 'Huh7_B4_Pickup',\n",
       "       'Huh7_A4', 'Huh7_C4', 'Huh7_D4', 'Kami41_A6', 'Kami41_C6',\n",
       "       'Kami41_D6', 'Kami41_B6_pickup', 'JHH4 D2', 'JHH4 C2 Pickup'],\n",
       "      dtype=object)"
      ]
     },
     "execution_count": 3,
     "metadata": {},
     "output_type": "execute_result"
    }
   ],
   "source": [
    "df = pd.read_csv('data/master_df_2.csv')\n",
    "\n",
    "treatment_cell_lines = ['JHH6_0uM_n1', 'JHH6_0uM_n2', 'JHH6_0uM_n3', 'JHH6_0uM_n4',\n",
    "                        'JHH6_1uM_n1', 'JHH6_1uM_n2', 'JHH6_1uM_n3', 'JHH6_1uM_n4',\n",
    "                        'JHH6_2.5uM_n1', 'JHH6_2.5uM_n2', 'JHH6_2.5uM_n3', 'JHH6_2.5uM_n4',\n",
    "                        'JHH7_0uM_n1', 'JHH7_0uM_n2', 'JHH7_0uM_n3', 'JHH7_0uM_n4',\n",
    "                        'JHH7_1uM_n1', 'JHH7_1uM_n2', 'JHH7_1uM_n3', 'JHH7_1uM_n4',\n",
    "                        'JHH7_2.5uM_n1', 'JHH7_2.5uM_n2', 'JHH7_2.5uM_n3', 'JHH7_2.5uM_n4']\n",
    "\n",
    "treated_df = df[df.IMAGE_SERIES.isin(treatment_cell_lines)].reset_index(drop=True)\n",
    "df.IMAGE_SERIES.unique()\n"
   ]
  },
  {
   "cell_type": "code",
   "execution_count": 5,
   "id": "c6828df4",
   "metadata": {},
   "outputs": [],
   "source": [
    "# create a list of our conditions\n",
    "conditions = [\n",
    "    ((df['IMAGE_SERIES'] == 'PRF5_A3') | (df['IMAGE_SERIES'] == 'PRF5_B3_pickup') | (df['IMAGE_SERIES'] == 'PRF5_C3') | (df['IMAGE_SERIES'] == 'PRF5_D3')),\n",
    "    ((df['IMAGE_SERIES'] == 'JHH4_A2') | (df['IMAGE_SERIES'] == 'JHH4_B2') | (df['IMAGE_SERIES'] == 'JHH4 C2 Pickup') | (df['IMAGE_SERIES'] == 'JHH4 D2')),\n",
    "    ((df['IMAGE_SERIES'] == 'JHH6_A1') | (df['IMAGE_SERIES'] == 'JHH6_B1') | (df['IMAGE_SERIES'] == 'JHH6_C1_pickup') | (df['IMAGE_SERIES'] == 'JHH6_D1')),\n",
    "    ((df['IMAGE_SERIES'] == 'Huh7_A4') | (df['IMAGE_SERIES'] == 'Huh7_B4_Pickup') | (df['IMAGE_SERIES'] == 'Huh7_C4') | (df['IMAGE_SERIES'] == 'Huh7_D4')),\n",
    "    ((df['IMAGE_SERIES'] == 'Kami41_A6') | (df['IMAGE_SERIES'] == 'Kami41_B6_pickup') | (df['IMAGE_SERIES'] == 'Kami41_C6') | (df['IMAGE_SERIES'] == 'Kami41_D6')),\n",
    "    ((df['IMAGE_SERIES'] == 'JHH7_A5') | (df['IMAGE_SERIES'] == 'JHH7_B5_pickup') | (df['IMAGE_SERIES'] == 'JHH7_C5') | (df['IMAGE_SERIES'] == 'JHH7_D5')),\n",
    "    ((df['IMAGE_SERIES'] == 'JHH6_0uM_n1') | (df['IMAGE_SERIES'] == 'JHH6_0uM_n2') | (df['IMAGE_SERIES'] == 'JHH6_0uM_n3') | (df['IMAGE_SERIES'] == 'JHH6_0uM_n4')),\n",
    "    ((df['IMAGE_SERIES'] == 'JHH6_1uM_n1') | (df['IMAGE_SERIES'] == 'JHH6_1uM_n2') | (df['IMAGE_SERIES'] == 'JHH6_1uM_n3') | (df['IMAGE_SERIES'] == 'JHH6_1uM_n4')),\n",
    "    ((df['IMAGE_SERIES'] == 'JHH6_2.5uM_n1') | (df['IMAGE_SERIES'] == 'JHH6_2.5uM_n2') | (df['IMAGE_SERIES'] == 'JHH6_2.5uM_n3') | (df['IMAGE_SERIES'] == 'JHH6_2.5uM_n4')),\n",
    "    ((df['IMAGE_SERIES'] == 'JHH7_0uM_n1') | (df['IMAGE_SERIES'] == 'JHH7_0uM_n2') | (df['IMAGE_SERIES'] == 'JHH7_0uM_n3') | (df['IMAGE_SERIES'] == 'JHH7_0uM_n4')),\n",
    "    ((df['IMAGE_SERIES'] == 'JHH7_1uM_n1') | (df['IMAGE_SERIES'] == 'JHH7_1uM_n2') | (df['IMAGE_SERIES'] == 'JHH7_1uM_n3') | (df['IMAGE_SERIES'] == 'JHH7_1uM_n4')),\n",
    "    ((df['IMAGE_SERIES'] == 'JHH7_2.5uM_n1') | (df['IMAGE_SERIES'] == 'JHH7_2.5uM_n2') | (df['IMAGE_SERIES'] == 'JHH7_2.5uM_n3') | (df['IMAGE_SERIES'] == 'JHH7_2.5uM_n4'))\n",
    "    ]\n",
    "\n",
    "# create a list of the values we want to assign for each condition\n",
    "values = ['PRF5', 'JHH4', 'JHH6', 'Huh7', 'Kami41', 'JHH7', 'JHH6_0uM', 'JHH6_1uM', 'JHH6_2.5uM', 'JHH7_0uM', 'JHH7_1uM', 'JHH7_2.5uM']"
   ]
  },
  {
   "cell_type": "code",
   "execution_count": 6,
   "id": "d23517e3",
   "metadata": {},
   "outputs": [
    {
     "data": {
      "text/html": [
       "<div>\n",
       "<style scoped>\n",
       "    .dataframe tbody tr th:only-of-type {\n",
       "        vertical-align: middle;\n",
       "    }\n",
       "\n",
       "    .dataframe tbody tr th {\n",
       "        vertical-align: top;\n",
       "    }\n",
       "\n",
       "    .dataframe thead th {\n",
       "        text-align: right;\n",
       "    }\n",
       "</style>\n",
       "<table border=\"1\" class=\"dataframe\">\n",
       "  <thead>\n",
       "    <tr style=\"text-align: right;\">\n",
       "      <th></th>\n",
       "      <th>IMAGE_SERIES</th>\n",
       "      <th>Label</th>\n",
       "      <th>TRACK_ID</th>\n",
       "      <th>NUMBER_SPOTS</th>\n",
       "      <th>NUMBER_GAPS</th>\n",
       "      <th>LONGEST_GAP</th>\n",
       "      <th>NUMBER_SPLITS</th>\n",
       "      <th>NUMBER_MERGES</th>\n",
       "      <th>NUMBER_COMPLEX</th>\n",
       "      <th>TRACK_DURATION</th>\n",
       "      <th>...</th>\n",
       "      <th>TRACK_MAX_SPEED</th>\n",
       "      <th>TRACK_MIN_SPEED</th>\n",
       "      <th>TRACK_MEDIAN_SPEED</th>\n",
       "      <th>TRACK_STD_SPEED</th>\n",
       "      <th>TRACK_MEAN_QUALITY</th>\n",
       "      <th>TRACK_MAX_QUALITY</th>\n",
       "      <th>TRACK_MIN_QUALITY</th>\n",
       "      <th>TRACK_MEDIAN_QUALITY</th>\n",
       "      <th>TRACK_STD_QUALITY</th>\n",
       "      <th>cell_line</th>\n",
       "    </tr>\n",
       "  </thead>\n",
       "  <tbody>\n",
       "    <tr>\n",
       "      <th>0</th>\n",
       "      <td>PRF5_B3_pickup</td>\n",
       "      <td>Track_0</td>\n",
       "      <td>0</td>\n",
       "      <td>12</td>\n",
       "      <td>0</td>\n",
       "      <td>0</td>\n",
       "      <td>0</td>\n",
       "      <td>0</td>\n",
       "      <td>0</td>\n",
       "      <td>11</td>\n",
       "      <td>...</td>\n",
       "      <td>29.000</td>\n",
       "      <td>1.000</td>\n",
       "      <td>10.000</td>\n",
       "      <td>9.781</td>\n",
       "      <td>0.093</td>\n",
       "      <td>0.123</td>\n",
       "      <td>0.059</td>\n",
       "      <td>0.100</td>\n",
       "      <td>0.017</td>\n",
       "      <td>PRF5</td>\n",
       "    </tr>\n",
       "    <tr>\n",
       "      <th>1</th>\n",
       "      <td>PRF5_B3_pickup</td>\n",
       "      <td>Track_1</td>\n",
       "      <td>1</td>\n",
       "      <td>10</td>\n",
       "      <td>0</td>\n",
       "      <td>0</td>\n",
       "      <td>0</td>\n",
       "      <td>0</td>\n",
       "      <td>0</td>\n",
       "      <td>9</td>\n",
       "      <td>...</td>\n",
       "      <td>2.000</td>\n",
       "      <td>0.000</td>\n",
       "      <td>1.000</td>\n",
       "      <td>0.928</td>\n",
       "      <td>0.087</td>\n",
       "      <td>0.116</td>\n",
       "      <td>0.040</td>\n",
       "      <td>0.094</td>\n",
       "      <td>0.023</td>\n",
       "      <td>PRF5</td>\n",
       "    </tr>\n",
       "    <tr>\n",
       "      <th>2</th>\n",
       "      <td>PRF5_B3_pickup</td>\n",
       "      <td>Track_2</td>\n",
       "      <td>2</td>\n",
       "      <td>3</td>\n",
       "      <td>0</td>\n",
       "      <td>0</td>\n",
       "      <td>0</td>\n",
       "      <td>0</td>\n",
       "      <td>0</td>\n",
       "      <td>2</td>\n",
       "      <td>...</td>\n",
       "      <td>4.000</td>\n",
       "      <td>2.000</td>\n",
       "      <td>4.000</td>\n",
       "      <td>1.414</td>\n",
       "      <td>0.067</td>\n",
       "      <td>0.075</td>\n",
       "      <td>0.056</td>\n",
       "      <td>0.070</td>\n",
       "      <td>0.008</td>\n",
       "      <td>PRF5</td>\n",
       "    </tr>\n",
       "    <tr>\n",
       "      <th>3</th>\n",
       "      <td>PRF5_B3_pickup</td>\n",
       "      <td>Track_3</td>\n",
       "      <td>3</td>\n",
       "      <td>7</td>\n",
       "      <td>0</td>\n",
       "      <td>0</td>\n",
       "      <td>0</td>\n",
       "      <td>0</td>\n",
       "      <td>0</td>\n",
       "      <td>6</td>\n",
       "      <td>...</td>\n",
       "      <td>12.837</td>\n",
       "      <td>2.459</td>\n",
       "      <td>6.725</td>\n",
       "      <td>3.562</td>\n",
       "      <td>0.096</td>\n",
       "      <td>0.100</td>\n",
       "      <td>0.094</td>\n",
       "      <td>0.096</td>\n",
       "      <td>0.002</td>\n",
       "      <td>PRF5</td>\n",
       "    </tr>\n",
       "    <tr>\n",
       "      <th>4</th>\n",
       "      <td>PRF5_B3_pickup</td>\n",
       "      <td>Track_4</td>\n",
       "      <td>4</td>\n",
       "      <td>3</td>\n",
       "      <td>0</td>\n",
       "      <td>0</td>\n",
       "      <td>0</td>\n",
       "      <td>0</td>\n",
       "      <td>0</td>\n",
       "      <td>2</td>\n",
       "      <td>...</td>\n",
       "      <td>15.758</td>\n",
       "      <td>7.837</td>\n",
       "      <td>15.758</td>\n",
       "      <td>5.601</td>\n",
       "      <td>0.075</td>\n",
       "      <td>0.080</td>\n",
       "      <td>0.071</td>\n",
       "      <td>0.073</td>\n",
       "      <td>0.004</td>\n",
       "      <td>PRF5</td>\n",
       "    </tr>\n",
       "    <tr>\n",
       "      <th>...</th>\n",
       "      <td>...</td>\n",
       "      <td>...</td>\n",
       "      <td>...</td>\n",
       "      <td>...</td>\n",
       "      <td>...</td>\n",
       "      <td>...</td>\n",
       "      <td>...</td>\n",
       "      <td>...</td>\n",
       "      <td>...</td>\n",
       "      <td>...</td>\n",
       "      <td>...</td>\n",
       "      <td>...</td>\n",
       "      <td>...</td>\n",
       "      <td>...</td>\n",
       "      <td>...</td>\n",
       "      <td>...</td>\n",
       "      <td>...</td>\n",
       "      <td>...</td>\n",
       "      <td>...</td>\n",
       "      <td>...</td>\n",
       "      <td>...</td>\n",
       "    </tr>\n",
       "    <tr>\n",
       "      <th>28951</th>\n",
       "      <td>JHH4 C2 Pickup</td>\n",
       "      <td>Track_562</td>\n",
       "      <td>171</td>\n",
       "      <td>28</td>\n",
       "      <td>1</td>\n",
       "      <td>2</td>\n",
       "      <td>0</td>\n",
       "      <td>0</td>\n",
       "      <td>0</td>\n",
       "      <td>29</td>\n",
       "      <td>...</td>\n",
       "      <td>12.144</td>\n",
       "      <td>1.261</td>\n",
       "      <td>3.776</td>\n",
       "      <td>2.951</td>\n",
       "      <td>20.357</td>\n",
       "      <td>30.860</td>\n",
       "      <td>0.938</td>\n",
       "      <td>23.666</td>\n",
       "      <td>8.401</td>\n",
       "      <td>JHH4</td>\n",
       "    </tr>\n",
       "    <tr>\n",
       "      <th>28952</th>\n",
       "      <td>JHH4 C2 Pickup</td>\n",
       "      <td>Track_563</td>\n",
       "      <td>172</td>\n",
       "      <td>24</td>\n",
       "      <td>1</td>\n",
       "      <td>2</td>\n",
       "      <td>0</td>\n",
       "      <td>0</td>\n",
       "      <td>0</td>\n",
       "      <td>25</td>\n",
       "      <td>...</td>\n",
       "      <td>26.095</td>\n",
       "      <td>0.513</td>\n",
       "      <td>6.390</td>\n",
       "      <td>7.976</td>\n",
       "      <td>11.447</td>\n",
       "      <td>22.958</td>\n",
       "      <td>0.681</td>\n",
       "      <td>11.079</td>\n",
       "      <td>6.412</td>\n",
       "      <td>JHH4</td>\n",
       "    </tr>\n",
       "    <tr>\n",
       "      <th>28953</th>\n",
       "      <td>JHH4 C2 Pickup</td>\n",
       "      <td>Track_571</td>\n",
       "      <td>180</td>\n",
       "      <td>17</td>\n",
       "      <td>0</td>\n",
       "      <td>0</td>\n",
       "      <td>0</td>\n",
       "      <td>0</td>\n",
       "      <td>0</td>\n",
       "      <td>16</td>\n",
       "      <td>...</td>\n",
       "      <td>39.380</td>\n",
       "      <td>0.910</td>\n",
       "      <td>10.010</td>\n",
       "      <td>9.622</td>\n",
       "      <td>13.101</td>\n",
       "      <td>20.086</td>\n",
       "      <td>8.683</td>\n",
       "      <td>10.978</td>\n",
       "      <td>4.414</td>\n",
       "      <td>JHH4</td>\n",
       "    </tr>\n",
       "    <tr>\n",
       "      <th>28954</th>\n",
       "      <td>JHH4 C2 Pickup</td>\n",
       "      <td>Track_578</td>\n",
       "      <td>187</td>\n",
       "      <td>7</td>\n",
       "      <td>0</td>\n",
       "      <td>0</td>\n",
       "      <td>0</td>\n",
       "      <td>0</td>\n",
       "      <td>0</td>\n",
       "      <td>6</td>\n",
       "      <td>...</td>\n",
       "      <td>32.209</td>\n",
       "      <td>8.133</td>\n",
       "      <td>15.220</td>\n",
       "      <td>9.544</td>\n",
       "      <td>1.150</td>\n",
       "      <td>1.464</td>\n",
       "      <td>0.510</td>\n",
       "      <td>1.325</td>\n",
       "      <td>0.317</td>\n",
       "      <td>JHH4</td>\n",
       "    </tr>\n",
       "    <tr>\n",
       "      <th>28955</th>\n",
       "      <td>JHH4 C2 Pickup</td>\n",
       "      <td>Track_582</td>\n",
       "      <td>191</td>\n",
       "      <td>3</td>\n",
       "      <td>0</td>\n",
       "      <td>0</td>\n",
       "      <td>0</td>\n",
       "      <td>0</td>\n",
       "      <td>0</td>\n",
       "      <td>2</td>\n",
       "      <td>...</td>\n",
       "      <td>25.750</td>\n",
       "      <td>15.512</td>\n",
       "      <td>25.750</td>\n",
       "      <td>7.239</td>\n",
       "      <td>10.524</td>\n",
       "      <td>11.251</td>\n",
       "      <td>9.596</td>\n",
       "      <td>10.726</td>\n",
       "      <td>0.691</td>\n",
       "      <td>JHH4</td>\n",
       "    </tr>\n",
       "  </tbody>\n",
       "</table>\n",
       "<p>28956 rows × 28 columns</p>\n",
       "</div>"
      ],
      "text/plain": [
       "         IMAGE_SERIES      Label  TRACK_ID  NUMBER_SPOTS  NUMBER_GAPS  \\\n",
       "0      PRF5_B3_pickup    Track_0         0            12            0   \n",
       "1      PRF5_B3_pickup    Track_1         1            10            0   \n",
       "2      PRF5_B3_pickup    Track_2         2             3            0   \n",
       "3      PRF5_B3_pickup    Track_3         3             7            0   \n",
       "4      PRF5_B3_pickup    Track_4         4             3            0   \n",
       "...               ...        ...       ...           ...          ...   \n",
       "28951  JHH4 C2 Pickup  Track_562       171            28            1   \n",
       "28952  JHH4 C2 Pickup  Track_563       172            24            1   \n",
       "28953  JHH4 C2 Pickup  Track_571       180            17            0   \n",
       "28954  JHH4 C2 Pickup  Track_578       187             7            0   \n",
       "28955  JHH4 C2 Pickup  Track_582       191             3            0   \n",
       "\n",
       "       LONGEST_GAP  NUMBER_SPLITS  NUMBER_MERGES  NUMBER_COMPLEX  \\\n",
       "0                0              0              0               0   \n",
       "1                0              0              0               0   \n",
       "2                0              0              0               0   \n",
       "3                0              0              0               0   \n",
       "4                0              0              0               0   \n",
       "...            ...            ...            ...             ...   \n",
       "28951            2              0              0               0   \n",
       "28952            2              0              0               0   \n",
       "28953            0              0              0               0   \n",
       "28954            0              0              0               0   \n",
       "28955            0              0              0               0   \n",
       "\n",
       "       TRACK_DURATION  ...  TRACK_MAX_SPEED  TRACK_MIN_SPEED  \\\n",
       "0                  11  ...           29.000            1.000   \n",
       "1                   9  ...            2.000            0.000   \n",
       "2                   2  ...            4.000            2.000   \n",
       "3                   6  ...           12.837            2.459   \n",
       "4                   2  ...           15.758            7.837   \n",
       "...               ...  ...              ...              ...   \n",
       "28951              29  ...           12.144            1.261   \n",
       "28952              25  ...           26.095            0.513   \n",
       "28953              16  ...           39.380            0.910   \n",
       "28954               6  ...           32.209            8.133   \n",
       "28955               2  ...           25.750           15.512   \n",
       "\n",
       "       TRACK_MEDIAN_SPEED  TRACK_STD_SPEED  TRACK_MEAN_QUALITY  \\\n",
       "0                  10.000            9.781               0.093   \n",
       "1                   1.000            0.928               0.087   \n",
       "2                   4.000            1.414               0.067   \n",
       "3                   6.725            3.562               0.096   \n",
       "4                  15.758            5.601               0.075   \n",
       "...                   ...              ...                 ...   \n",
       "28951               3.776            2.951              20.357   \n",
       "28952               6.390            7.976              11.447   \n",
       "28953              10.010            9.622              13.101   \n",
       "28954              15.220            9.544               1.150   \n",
       "28955              25.750            7.239              10.524   \n",
       "\n",
       "       TRACK_MAX_QUALITY  TRACK_MIN_QUALITY  TRACK_MEDIAN_QUALITY  \\\n",
       "0                  0.123              0.059                 0.100   \n",
       "1                  0.116              0.040                 0.094   \n",
       "2                  0.075              0.056                 0.070   \n",
       "3                  0.100              0.094                 0.096   \n",
       "4                  0.080              0.071                 0.073   \n",
       "...                  ...                ...                   ...   \n",
       "28951             30.860              0.938                23.666   \n",
       "28952             22.958              0.681                11.079   \n",
       "28953             20.086              8.683                10.978   \n",
       "28954              1.464              0.510                 1.325   \n",
       "28955             11.251              9.596                10.726   \n",
       "\n",
       "       TRACK_STD_QUALITY  cell_line  \n",
       "0                  0.017       PRF5  \n",
       "1                  0.023       PRF5  \n",
       "2                  0.008       PRF5  \n",
       "3                  0.002       PRF5  \n",
       "4                  0.004       PRF5  \n",
       "...                  ...        ...  \n",
       "28951              8.401       JHH4  \n",
       "28952              6.412       JHH4  \n",
       "28953              4.414       JHH4  \n",
       "28954              0.317       JHH4  \n",
       "28955              0.691       JHH4  \n",
       "\n",
       "[28956 rows x 28 columns]"
      ]
     },
     "execution_count": 6,
     "metadata": {},
     "output_type": "execute_result"
    }
   ],
   "source": [
    "# create a new column and use np.select to assign values to it using our lists as arguments\n",
    "df['cell_line'] = np.select(conditions, values)\n",
    "\n",
    "# display updated DataFrame\n",
    "df"
   ]
  },
  {
   "cell_type": "code",
   "execution_count": 8,
   "id": "1a636e13",
   "metadata": {},
   "outputs": [
    {
     "name": "stdout",
     "output_type": "stream",
     "text": [
      "['PRF5' 'JHH4' 'JHH6' 'JHH7' 'JHH7_2.5uM' 'JHH6_2.5uM' 'JHH7_0uM'\n",
      " 'JHH6_0uM' 'JHH7_1uM' 'JHH6_1uM' 'Huh7' 'Kami41']\n",
      "12\n"
     ]
    }
   ],
   "source": [
    "print(df.cell_line.unique())\n",
    "print(len(df.cell_line.unique()))"
   ]
  },
  {
   "cell_type": "code",
   "execution_count": 23,
   "id": "f9cc8246",
   "metadata": {},
   "outputs": [],
   "source": [
    "PRF5 = df[df['cell_line'] == 'PRF5']\n",
    "PRF5_TRACK_MEAN_SPEED_df = PRF5[['TRACK_MEAN_SPEED', 'IMAGE_SERIES']]\n"
   ]
  },
  {
   "cell_type": "code",
   "execution_count": 32,
   "id": "7b7b3f8d",
   "metadata": {},
   "outputs": [
    {
     "name": "stdout",
     "output_type": "stream",
     "text": [
      "PRF5_B3_pickup\n",
      "1880\n",
      "PRF5_A3\n",
      "2314\n",
      "PRF5_C3\n",
      "1355\n",
      "PRF5_D3\n",
      "1782\n",
      "max_length:  2314\n"
     ]
    }
   ],
   "source": [
    "# list containing names of each PRF5 images series\n",
    "PRF5_list = PRF5_TRACK_MEAN_SPEED_df.IMAGE_SERIES.unique()\n",
    "\n",
    "max_length = 0\n",
    "for series in PRF5_list:\n",
    "    print(series)\n",
    "    series = PRF5_TRACK_MEAN_SPEED_df[PRF5_TRACK_MEAN_SPEED_df['IMAGE_SERIES'] == series]\n",
    "    series_length = len(series)\n",
    "    if series_length > max_length:\n",
    "        max_length = series_length\n",
    "    else:\n",
    "        pass\n",
    "    print(series_length)\n",
    "#     print(type(series))\n",
    "#     print(series.head())\n",
    "\n",
    "print('max_length: ', max_length)"
   ]
  },
  {
   "cell_type": "code",
   "execution_count": 34,
   "id": "37bb7646",
   "metadata": {},
   "outputs": [
    {
     "data": {
      "text/plain": [
       "0       12.539\n",
       "1        1.111\n",
       "2        3.000\n",
       "3        6.816\n",
       "4       11.798\n",
       "         ...  \n",
       "1875     6.000\n",
       "1876     3.128\n",
       "1877    18.373\n",
       "1878     9.912\n",
       "1879     3.867\n",
       "Name: TRACK_MEAN_SPEED, Length: 1880, dtype: float64"
      ]
     },
     "execution_count": 34,
     "metadata": {},
     "output_type": "execute_result"
    }
   ],
   "source": [
    "series = PRF5_TRACK_MEAN_SPEED_df[PRF5_TRACK_MEAN_SPEED_df['IMAGE_SERIES'] == 'PRF5_B3_pickup']['TRACK_MEAN_SPEED']\n",
    "series"
   ]
  },
  {
   "cell_type": "code",
   "execution_count": null,
   "id": "41c82240",
   "metadata": {},
   "outputs": [],
   "source": []
  },
  {
   "cell_type": "code",
   "execution_count": 48,
   "id": "f72d4d6f",
   "metadata": {},
   "outputs": [
    {
     "data": {
      "text/plain": [
       "<seaborn.axisgrid.FacetGrid at 0x7f7db7381a00>"
      ]
     },
     "execution_count": 48,
     "metadata": {},
     "output_type": "execute_result"
    },
    {
     "data": {
      "image/png": "[encoded data removed]",
      "text/plain": [
       "<Figure size 791.875x360 with 1 Axes>"
      ]
     },
     "metadata": {
      "needs_background": "light"
     },
     "output_type": "display_data"
    }
   ],
   "source": [
    "sns.displot(PRF5_TRACK_MEAN_SPEED_df, x='TRACK_MEAN_SPEED', hue='IMAGE_SERIES', kind=\"kde\", bw_adjust=.3, \n",
    "            height=5, aspect=15/8).set(title='PRF5 no bootstrap')\n"
   ]
  },
  {
   "cell_type": "code",
   "execution_count": 44,
   "id": "3b6f7423",
   "metadata": {},
   "outputs": [
    {
     "data": {
      "text/plain": [
       "<seaborn.axisgrid.FacetGrid at 0x7f7db66946d0>"
      ]
     },
     "execution_count": 44,
     "metadata": {},
     "output_type": "execute_result"
    },
    {
     "data": {
      "image/png": "[encoded data removed]",
      "text/plain": [
       "<Figure size 675x360 with 1 Axes>"
      ]
     },
     "metadata": {
      "needs_background": "light"
     },
     "output_type": "display_data"
    }
   ],
   "source": [
    "sns.displot(series, kind=\"kde\", bw_adjust=.3, height=5, aspect=15/8)"
   ]
  },
  {
   "cell_type": "code",
   "execution_count": 47,
   "id": "0e867c12",
   "metadata": {},
   "outputs": [
    {
     "name": "stdout",
     "output_type": "stream",
     "text": [
      "2314\n"
     ]
    },
    {
     "data": {
      "text/plain": [
       "<seaborn.axisgrid.FacetGrid at 0x7f7db70f3580>"
      ]
     },
     "execution_count": 47,
     "metadata": {},
     "output_type": "execute_result"
    },
    {
     "data": {
      "image/png": "[encoded data removed]",
      "text/plain": [
       "<Figure size 675x360 with 1 Axes>"
      ]
     },
     "metadata": {
      "needs_background": "light"
     },
     "output_type": "display_data"
    }
   ],
   "source": [
    "x = np.random.choice(series, size=max_length, replace=True)\n",
    "print(len(x))\n",
    "\n",
    "sns.displot(x, kind=\"kde\", bw_adjust=.3, height=5, aspect=15/8)"
   ]
  }
 ],
 "metadata": {
  "kernelspec": {
   "display_name": "Python 3 (ipykernel)",
   "language": "python",
   "name": "python3"
  },
  "language_info": {
   "codemirror_mode": {
    "name": "ipython",
    "version": 3
   },
   "file_extension": ".py",
   "mimetype": "text/x-python",
   "name": "python",
   "nbconvert_exporter": "python",
   "pygments_lexer": "ipython3",
   "version": "3.9.6"
  }
 },
 "nbformat": 4,
 "nbformat_minor": 5
}
